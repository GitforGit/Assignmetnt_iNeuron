{
 "cells": [
  {
   "cell_type": "code",
   "execution_count": 4,
   "metadata": {},
   "outputs": [],
   "source": [
    "# Function to print th pattern\n",
    "def printpattern(n):\n",
    "    # outer look for row handling\n",
    "    for i in range(0, n):\n",
    "        # inner loop to handle number of columns values\n",
    "        for j in range(0, i+1):\n",
    "            print(\"* \", end=\"\")\n",
    "        # end the line with after each row\n",
    "        print(\"\\r\")\n",
    "        \n",
    "    "
   ]
  },
  {
   "cell_type": "code",
   "execution_count": 5,
   "metadata": {},
   "outputs": [
    {
     "name": "stdout",
     "output_type": "stream",
     "text": [
      "* \r\n",
      "* * \r\n",
      "* * * \r\n",
      "* * * * \r\n",
      "* * * * * \r\n",
      "* * * * * * \r\n"
     ]
    }
   ],
   "source": [
    "n=6\n",
    "printpattern(n)"
   ]
  },
  {
   "cell_type": "code",
   "execution_count": 12,
   "metadata": {
    "slideshow": {
     "slide_type": "-"
    }
   },
   "outputs": [],
   "source": [
    "def pypart2(n): \n",
    "      \n",
    "    # number of spaces \n",
    "    k = 2*n - 2\n",
    "  \n",
    "    # outer loop to handle number of rows \n",
    "    for i in range(0, n): \n",
    "      \n",
    "        # inner loop to handle number spaces \n",
    "        # values changing acc. to requirement \n",
    "        for j in range(0, k): \n",
    "            print(end=\" \") \n",
    "      \n",
    "        # decrementing k after each loop \n",
    "        k = k - 2\n",
    "      \n",
    "        # inner loop to handle number of columns \n",
    "        # values changing acc. to outer loop \n",
    "        for j in range(0, i+1): \n",
    "          \n",
    "            # printing stars \n",
    "            print(\"* \", end=\"\") \n",
    "      \n",
    "        # ending line after each row \n",
    "        print(\"\\r\") \n",
    "  "
   ]
  },
  {
   "cell_type": "code",
   "execution_count": 13,
   "metadata": {},
   "outputs": [
    {
     "name": "stdout",
     "output_type": "stream",
     "text": [
      "        * \r\n",
      "      * * \r\n",
      "    * * * \r\n",
      "  * * * * \r\n",
      "* * * * * \r\n"
     ]
    }
   ],
   "source": [
    "n = 5\n",
    "pypart2(n)"
   ]
  },
  {
   "cell_type": "code",
   "execution_count": 27,
   "metadata": {},
   "outputs": [
    {
     "name": "stdout",
     "output_type": "stream",
     "text": [
      "                                                        * \r\n",
      "                                                       * * \r\n",
      "                                                      * * * \r\n",
      "                                                     * * * * \r\n",
      "                                                    * * * * * \r\n",
      "                                                   * * * * * * \r\n",
      "                                                  * * * * * * * \r\n",
      "                                                 * * * * * * * * \r\n",
      "                                                * * * * * * * * * \r\n",
      "                                               * * * * * * * * * * \r\n",
      "                                              * * * * * * * * * * * \r\n",
      "                                             * * * * * * * * * * * * \r\n",
      "                                            * * * * * * * * * * * * * \r\n",
      "                                           * * * * * * * * * * * * * * \r\n",
      "                                          * * * * * * * * * * * * * * * \r\n",
      "                                         * * * * * * * * * * * * * * * * \r\n",
      "                                        * * * * * * * * * * * * * * * * * \r\n",
      "                                       * * * * * * * * * * * * * * * * * * \r\n",
      "                                      * * * * * * * * * * * * * * * * * * * \r\n",
      "                                     * * * * * * * * * * * * * * * * * * * * \r\n",
      "                                    * * * * * * * * * * * * * * * * * * * * * \r\n",
      "                                   * * * * * * * * * * * * * * * * * * * * * * \r\n",
      "                                  * * * * * * * * * * * * * * * * * * * * * * * \r\n",
      "                                 * * * * * * * * * * * * * * * * * * * * * * * * \r\n",
      "                                * * * * * * * * * * * * * * * * * * * * * * * * * \r\n",
      "                               * * * * * * * * * * * * * * * * * * * * * * * * * * \r\n",
      "                              * * * * * * * * * * * * * * * * * * * * * * * * * * * \r\n",
      "                             * * * * * * * * * * * * * * * * * * * * * * * * * * * * \r\n",
      "                            * * * * * * * * * * * * * * * * * * * * * * * * * * * * * \r\n"
     ]
    }
   ],
   "source": [
    "# creating a triangle patter\n",
    "def triangle(n):\n",
    "    k=2*n-2\n",
    "    \n",
    "    for i in range(0, n):\n",
    "        for j in range(0, k):\n",
    "            print(end=\" \")\n",
    "        # decrementing k after each loop\n",
    "        k=k-1\n",
    "        \n",
    "        for j in range(0, i+1):\n",
    "            print(\"* \", end=\"\")\n",
    "        print(\"\\r\") \n",
    "\n",
    "n=29\n",
    "triangle(n)              "
   ]
  },
  {
   "cell_type": "code",
   "execution_count": 30,
   "metadata": {},
   "outputs": [
    {
     "name": "stdout",
     "output_type": "stream",
     "text": [
      "1\r\n",
      "12\r\n",
      "123\r\n",
      "1234\r\n",
      "12345\r\n",
      "123456\r\n",
      "1234567\r\n",
      "12345678\r\n",
      "123456789\r\n",
      "12345678910\r\n"
     ]
    }
   ],
   "source": [
    "# printing  the number patter\n",
    "\n",
    "def num(n):\n",
    "    num=1\n",
    "    for i in range(0, n):\n",
    "        num =1\n",
    "        for j in range(0, i+1):\n",
    "            print(num, end=\"\")\n",
    "            num=num+1\n",
    "        print(\"\\r\")    \n",
    "    \n",
    "n=10\n",
    "num(n)"
   ]
  },
  {
   "cell_type": "code",
   "execution_count": 33,
   "metadata": {},
   "outputs": [],
   "source": [
    "def  contalpha(n): \n",
    "      \n",
    "    # initializing value corresponding to 'A'  \n",
    "    # ASCII value \n",
    "    num = 95\n",
    "    # outer loop to handle number of rows \n",
    "    for i in range(0, n): \n",
    "      \n",
    "        # inner loop to handle number of columns \n",
    "        # values changing acc. to outer loop \n",
    "        for j in range(0, i+1): \n",
    "          \n",
    "            # explicitely converting to char \n",
    "            ch = chr(num) \n",
    "          \n",
    "            # printing char value  \n",
    "            print(ch, end=\" \") \n",
    "          \n",
    "            # incrementing at each column \n",
    "            num = num +1\n",
    "      \n",
    "      \n",
    "        # ending line after each row \n",
    "        print(\"\\r\") "
   ]
  },
  {
   "cell_type": "code",
   "execution_count": 34,
   "metadata": {},
   "outputs": [
    {
     "name": "stdout",
     "output_type": "stream",
     "text": [
      "_ \r\n",
      "` a \r\n",
      "b c d \r\n",
      "e f g h \r\n",
      "i j k l m \r\n",
      "n o p q r s \r\n",
      "t u v w x y z \r\n",
      "{ | } ~     \r\n",
      "  ",
      "       \r\n",
      "          \r\n"
     ]
    }
   ],
   "source": [
    "n=10\n",
    "contalpha(n)"
   ]
  },
  {
   "cell_type": "code",
   "execution_count": null,
   "metadata": {},
   "outputs": [],
   "source": []
  }
 ],
 "metadata": {
  "kernelspec": {
   "display_name": "Python 3",
   "language": "python",
   "name": "python3"
  },
  "language_info": {
   "codemirror_mode": {
    "name": "ipython",
    "version": 3
   },
   "file_extension": ".py",
   "mimetype": "text/x-python",
   "name": "python",
   "nbconvert_exporter": "python",
   "pygments_lexer": "ipython3",
   "version": "3.7.6"
  }
 },
 "nbformat": 4,
 "nbformat_minor": 4
}
