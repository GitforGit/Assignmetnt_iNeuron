{
 "cells": [
  {
   "cell_type": "markdown",
   "metadata": {},
   "source": [
    "# Numpy string  operation:\n",
    "  This module is used to perform vactorized string operation for array of dtype numpy.string_or numpy.unicode_ All of them are bsed on the standard String function in Python's build-in library"
   ]
  },
  {
   "cell_type": "code",
   "execution_count": 3,
   "metadata": {},
   "outputs": [
    {
     "name": "stdout",
     "output_type": "stream",
     "text": [
      "['convert string' 'to lower case']\n",
      "hello intelligent species\n"
     ]
    }
   ],
   "source": [
    "#1 numpy.lower() \n",
    "#basically it will convert the any string  character to lower case \n",
    "#character\n",
    "import numpy as np\n",
    "# converting to lowercase\n",
    "print(np.char.lower(['CONVERT STRING', 'TO LOWER CASE']))\n",
    "\n",
    "#converting to lowercase\n",
    "print(np.char.lower(\"Hello Intelligent Species\"))\n",
    "# both double quote and Single quote String is converted converting"
   ]
  },
  {
   "cell_type": "code",
   "execution_count": 5,
   "metadata": {},
   "outputs": [
    {
     "name": "stdout",
     "output_type": "stream",
     "text": [
      "['Hello', 'Humans']\n",
      "['what', ' is the', ' day']\n"
     ]
    }
   ],
   "source": [
    "# Splitting the String\n",
    "# numpy.split() : This function returns a list of Strings after\n",
    "# breaking the given string by the specified separator\n",
    "# already imported numpy \n",
    "print(np.char.split(\"Hello Humans\"))\n",
    "\n",
    "#Splitting a string\n",
    "print(np.char.split('what, is the, day', sep=','))"
   ]
  },
  {
   "cell_type": "code",
   "execution_count": 9,
   "metadata": {},
   "outputs": [
    {
     "name": "stdout",
     "output_type": "stream",
     "text": [
      "the result is -1\n",
      "SUbstring for 'Man' \n",
      "Contains given substring\n"
     ]
    }
   ],
   "source": [
    "word = 'geeks for geeks'\n",
    "# return first occurrence of Substring\n",
    "result=word.find(\"Substring is found at index 'geeks'\")\n",
    "print(\"the result is\", result)\n",
    "\n",
    "result =word.find('for')\n",
    "print(\"SUbstring for 'Man' \")\n",
    "# how to use find()\n",
    "if (word.find('geeks') != -1):\n",
    "    print(\"Contains given substring\")\n",
    "else:\n",
    "    print(\"Doesn't contains given substring\")\n",
    "    \n"
   ]
  },
  {
   "cell_type": "code",
   "execution_count": null,
   "metadata": {},
   "outputs": [],
   "source": []
  }
 ],
 "metadata": {
  "kernelspec": {
   "display_name": "Python 3",
   "language": "python",
   "name": "python3"
  },
  "language_info": {
   "codemirror_mode": {
    "name": "ipython",
    "version": 3
   },
   "file_extension": ".py",
   "mimetype": "text/x-python",
   "name": "python",
   "nbconvert_exporter": "python",
   "pygments_lexer": "ipython3",
   "version": "3.7.4"
  }
 },
 "nbformat": 4,
 "nbformat_minor": 2
}
