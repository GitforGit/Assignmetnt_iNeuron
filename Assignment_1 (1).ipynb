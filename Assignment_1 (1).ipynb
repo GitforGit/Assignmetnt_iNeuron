{
 "cells": [
  {
   "cell_type": "markdown",
   "metadata": {},
   "source": [
    "Install Jupyter notebook and run the first program and share the screenshot of the output."
   ]
  },
  {
   "cell_type": "code",
   "execution_count": 4,
   "metadata": {},
   "outputs": [
    {
     "name": "stdout",
     "output_type": "stream",
     "text": [
      "hello Ineuron Familyl\n"
     ]
    }
   ],
   "source": [
    "print(\"hello Ineuron Familyl\")"
   ]
  },
  {
   "cell_type": "markdown",
   "metadata": {},
   "source": [
    "Write a program which will find all such numbers which are divisible by 7 but are not a multiple\n",
    "of 5, between 2000 and 3200 (both included). The numbers obtained should be printed in a\n",
    "comma-separated sequence on a single line.\n"
   ]
  },
  {
   "cell_type": "code",
   "execution_count": 9,
   "metadata": {},
   "outputs": [
    {
     "name": "stdout",
     "output_type": "stream",
     "text": [
      "value is 2030\n",
      "value is 2065\n",
      "value is 2100\n",
      "value is 2135\n",
      "value is 2170\n",
      "value is 2205\n",
      "value is 2240\n",
      "value is 2275\n",
      "value is 2310\n",
      "value is 2345\n",
      "value is 2380\n",
      "value is 2415\n",
      "value is 2450\n",
      "value is 2485\n",
      "value is 2520\n",
      "value is 2555\n",
      "value is 2590\n",
      "value is 2625\n",
      "value is 2660\n",
      "value is 2695\n",
      "value is 2730\n",
      "value is 2765\n",
      "value is 2800\n",
      "value is 2835\n",
      "value is 2870\n",
      "value is 2905\n",
      "value is 2940\n",
      "value is 2975\n",
      "value is 3010\n",
      "value is 3045\n",
      "value is 3080\n",
      "value is 3115\n",
      "value is 3150\n",
      "value is 3185\n"
     ]
    }
   ],
   "source": [
    "lst=[]\n",
    "for i in range(2000, 3200):\n",
    "    if( i % 7 ==0) and (i%5==0) :\n",
    "        print(\"value is\", i)"
   ]
  },
  {
   "cell_type": "markdown",
   "metadata": {},
   "source": [
    "Write a Python program to accept the user's first and last name and then getting them printed in\n",
    "the the reverse order with a space between first name and last name."
   ]
  },
  {
   "cell_type": "code",
   "execution_count": 16,
   "metadata": {},
   "outputs": [
    {
     "name": "stdout",
     "output_type": "stream",
     "text": [
      "Shashi\n",
      "Kant\n",
      "['Kant', 'Shashi']\n",
      "Hi  Kant Shashi\n"
     ]
    }
   ],
   "source": [
    "lst=[]\n",
    "firstinput=input()\n",
    "secondinput=input()\n",
    "lst.append(firstinput)\n",
    "lst.append(secondinput)\n",
    "print(lst[::-1])\n",
    "#ans\n",
    "print(\"Hi \", secondinput, firstinput)\n"
   ]
  },
  {
   "cell_type": "markdown",
   "metadata": {},
   "source": [
    "Write a Python program to find the volume of a sphere with diameter 12 cm.\n",
    "Formula: V=4/3 * π * r\n",
    "3"
   ]
  },
  {
   "cell_type": "code",
   "execution_count": 23,
   "metadata": {},
   "outputs": [
    {
     "name": "stdout",
     "output_type": "stream",
     "text": [
      "904.752\n"
     ]
    }
   ],
   "source": [
    "PI=3.1415\n",
    "# Diameter is already given 12 so the half of diameter is radius\n",
    "r=6\n",
    "V= 4/3*PI*r**3\n",
    "print(V)"
   ]
  },
  {
   "cell_type": "markdown",
   "metadata": {},
   "source": [
    "Write a program which accepts a sequence of comma-separated numbers from console and\n",
    "generate a list.\n"
   ]
  },
  {
   "cell_type": "code",
   "execution_count": 29,
   "metadata": {},
   "outputs": [
    {
     "name": "stdout",
     "output_type": "stream",
     "text": [
      "take input comma-separated numbers: 1,2,3,4,5,6,7,8,9,10\n",
      "Data inside list  :  ['1', '2', '3', '4', '5', '6', '7', '8', '9', '10']\n"
     ]
    }
   ],
   "source": [
    "values = input(\"take input comma-separated numbers: \")\n",
    "list = values.split(\",\")\n",
    "print('Data inside list  : ',list)"
   ]
  },
  {
   "cell_type": "markdown",
   "metadata": {},
   "source": [
    "Create the below pattern using nested for loop in Python.\n",
    "*\n",
    "* *\n",
    "* * *\n",
    "* * * *\n",
    "* * * * *\n",
    "* * * *\n",
    "* * *\n",
    "* *\n",
    "*"
   ]
  },
  {
   "cell_type": "code",
   "execution_count": 51,
   "metadata": {},
   "outputs": [
    {
     "name": "stdout",
     "output_type": "stream",
     "text": [
      "*   \n",
      "*  *   \n",
      "*  *  *   \n",
      "*  *  *  *   \n",
      "*  *  *  *  *   \n",
      "*  *  *  *  *  *   \n",
      "*  *  *  *  *  *  *   \n",
      "*  *  *  *  *  *   \n",
      "*  *  *  *  *   \n",
      "*  *  *  *   \n",
      "*  *  *   \n",
      "*  *   \n"
     ]
    }
   ],
   "source": [
    "for i in range(0,6):\n",
    "    for j in range(0, i+1):\n",
    "        print(\"* \", end=\" \")\n",
    "\n",
    "    print(\" \")  \n",
    "for i in range( 6 , 0, -1):\n",
    "    for j in range(0, i+1):\n",
    "        print(\"* \", end=\" \")\n",
    "    \n",
    "    print(\" \")"
   ]
  },
  {
   "cell_type": "markdown",
   "metadata": {},
   "source": [
    "Write a Python program to reverse a word after accepting the input from the user"
   ]
  },
  {
   "cell_type": "code",
   "execution_count": 74,
   "metadata": {},
   "outputs": [
    {
     "name": "stdout",
     "output_type": "stream",
     "text": [
      "inputString: Shashikant Yadav\n",
      "vadaY tnakihsahS\n",
      "\n"
     ]
    }
   ],
   "source": [
    "word = input(\"inputString: \")\n",
    "\n",
    "for char in range(len(word) - 1, -1, -1):\n",
    "  print(word[char], end=\"\")\n",
    "print(\"\\n\")"
   ]
  },
  {
   "cell_type": "markdown",
   "metadata": {},
   "source": [
    "Write a Python Program to print the given string in the format specified in the sample output.\n",
    "WE, THE PEOPLE OF INDIA, having solemnly resolved to constitute India into a\n",
    "SOVEREIGN, SOCIALIST, SECULAR, DEMOCRATIC REPUBLIC and to secure to all\n",
    "its citizens"
   ]
  },
  {
   "cell_type": "code",
   "execution_count": 75,
   "metadata": {},
   "outputs": [
    {
     "name": "stdout",
     "output_type": "stream",
     "text": [
      "WE, THE PEOPLE OF INDIA,\n",
      "\thaving solemnly resolved to constitute India into a SOVEREIGN,!\n",
      "\t\tSOCIALIST, SECULAR, DEMOCRATIC REPUBLIC\n",
      "\t\tand to secure to all its citizens:\n"
     ]
    }
   ],
   "source": [
    "string = \"WE, THE PEOPLE OF INDIA,{}having solemnly resolved to constitute India into a SOVEREIGN,{}SOCIALIST, SECULAR, DEMOCRATIC REPUBLIC{}and to secure to all its citizens{}\"\n",
    "print(string.format('\\n\\t','!\\n\\t\\t','\\n\\t\\t',':'))"
   ]
  }
 ],
 "metadata": {
  "kernelspec": {
   "display_name": "Python 3",
   "language": "python",
   "name": "python3"
  },
  "language_info": {
   "codemirror_mode": {
    "name": "ipython",
    "version": 3
   },
   "file_extension": ".py",
   "mimetype": "text/x-python",
   "name": "python",
   "nbconvert_exporter": "python",
   "pygments_lexer": "ipython3",
   "version": "3.7.6"
  }
 },
 "nbformat": 4,
 "nbformat_minor": 4
}
